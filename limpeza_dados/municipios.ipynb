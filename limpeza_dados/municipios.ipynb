{
 "cells": [
  {
   "cell_type": "code",
   "execution_count": 1,
   "metadata": {},
   "outputs": [],
   "source": [
    "import json\n",
    "import geopandas as gpd\n",
    "import pandas as pd"
   ]
  },
  {
   "cell_type": "code",
   "execution_count": 2,
   "metadata": {},
   "outputs": [],
   "source": [
    "geo = gpd.read_file(\"municipios.geojson\")"
   ]
  },
  {
   "cell_type": "code",
   "execution_count": 3,
   "metadata": {},
   "outputs": [],
   "source": [
    "muni = pd.DataFrame(geo)"
   ]
  },
  {
   "cell_type": "code",
   "execution_count": 4,
   "metadata": {},
   "outputs": [
    {
     "data": {
      "text/html": [
       "<div>\n",
       "<style scoped>\n",
       "    .dataframe tbody tr th:only-of-type {\n",
       "        vertical-align: middle;\n",
       "    }\n",
       "\n",
       "    .dataframe tbody tr th {\n",
       "        vertical-align: top;\n",
       "    }\n",
       "\n",
       "    .dataframe thead th {\n",
       "        text-align: right;\n",
       "    }\n",
       "</style>\n",
       "<table border=\"1\" class=\"dataframe\">\n",
       "  <thead>\n",
       "    <tr style=\"text-align: right;\">\n",
       "      <th></th>\n",
       "      <th>cd_mun</th>\n",
       "      <th>nm_mun</th>\n",
       "      <th>sigla_uf</th>\n",
       "      <th>uf</th>\n",
       "      <th>area_km2</th>\n",
       "      <th>an022801</th>\n",
       "      <th>geometry</th>\n",
       "    </tr>\n",
       "  </thead>\n",
       "  <tbody>\n",
       "    <tr>\n",
       "      <th>0</th>\n",
       "      <td>1100015</td>\n",
       "      <td>Alta Floresta D'Oeste</td>\n",
       "      <td>RO</td>\n",
       "      <td>11.0</td>\n",
       "      <td>7067.127</td>\n",
       "      <td>0.0</td>\n",
       "      <td>MULTIPOLYGON (((-62.19465 -11.82746, -62.19332...</td>\n",
       "    </tr>\n",
       "    <tr>\n",
       "      <th>1</th>\n",
       "      <td>1100023</td>\n",
       "      <td>Ariquemes</td>\n",
       "      <td>RO</td>\n",
       "      <td>11.0</td>\n",
       "      <td>4426.571</td>\n",
       "      <td>0.0</td>\n",
       "      <td>MULTIPOLYGON (((-62.53648 -9.73222, -62.52765 ...</td>\n",
       "    </tr>\n",
       "    <tr>\n",
       "      <th>2</th>\n",
       "      <td>1100031</td>\n",
       "      <td>Cabixi</td>\n",
       "      <td>RO</td>\n",
       "      <td>11.0</td>\n",
       "      <td>1314.352</td>\n",
       "      <td>0.0</td>\n",
       "      <td>MULTIPOLYGON (((-60.37119 -13.36655, -60.37134...</td>\n",
       "    </tr>\n",
       "    <tr>\n",
       "      <th>3</th>\n",
       "      <td>1100049</td>\n",
       "      <td>Cacoal</td>\n",
       "      <td>RO</td>\n",
       "      <td>11.0</td>\n",
       "      <td>3793.000</td>\n",
       "      <td>0.0</td>\n",
       "      <td>MULTIPOLYGON (((-61.0008 -11.29737, -61.00103 ...</td>\n",
       "    </tr>\n",
       "    <tr>\n",
       "      <th>4</th>\n",
       "      <td>1100056</td>\n",
       "      <td>Cerejeiras</td>\n",
       "      <td>RO</td>\n",
       "      <td>11.0</td>\n",
       "      <td>2783.300</td>\n",
       "      <td>0.0</td>\n",
       "      <td>MULTIPOLYGON (((-61.49976 -13.00525, -61.49809...</td>\n",
       "    </tr>\n",
       "  </tbody>\n",
       "</table>\n",
       "</div>"
      ],
      "text/plain": [
       "    cd_mun                 nm_mun sigla_uf    uf  area_km2  an022801  \\\n",
       "0  1100015  Alta Floresta D'Oeste       RO  11.0  7067.127       0.0   \n",
       "1  1100023              Ariquemes       RO  11.0  4426.571       0.0   \n",
       "2  1100031                 Cabixi       RO  11.0  1314.352       0.0   \n",
       "3  1100049                 Cacoal       RO  11.0  3793.000       0.0   \n",
       "4  1100056             Cerejeiras       RO  11.0  2783.300       0.0   \n",
       "\n",
       "                                            geometry  \n",
       "0  MULTIPOLYGON (((-62.19465 -11.82746, -62.19332...  \n",
       "1  MULTIPOLYGON (((-62.53648 -9.73222, -62.52765 ...  \n",
       "2  MULTIPOLYGON (((-60.37119 -13.36655, -60.37134...  \n",
       "3  MULTIPOLYGON (((-61.0008 -11.29737, -61.00103 ...  \n",
       "4  MULTIPOLYGON (((-61.49976 -13.00525, -61.49809...  "
      ]
     },
     "execution_count": 4,
     "metadata": {},
     "output_type": "execute_result"
    }
   ],
   "source": [
    "muni.head()"
   ]
  },
  {
   "cell_type": "code",
   "execution_count": 5,
   "metadata": {},
   "outputs": [],
   "source": [
    "muni.drop(columns=\"geometry\", inplace=True)"
   ]
  },
  {
   "cell_type": "code",
   "execution_count": 6,
   "metadata": {},
   "outputs": [
    {
     "data": {
      "text/html": [
       "<div>\n",
       "<style scoped>\n",
       "    .dataframe tbody tr th:only-of-type {\n",
       "        vertical-align: middle;\n",
       "    }\n",
       "\n",
       "    .dataframe tbody tr th {\n",
       "        vertical-align: top;\n",
       "    }\n",
       "\n",
       "    .dataframe thead th {\n",
       "        text-align: right;\n",
       "    }\n",
       "</style>\n",
       "<table border=\"1\" class=\"dataframe\">\n",
       "  <thead>\n",
       "    <tr style=\"text-align: right;\">\n",
       "      <th></th>\n",
       "      <th>cd_mun</th>\n",
       "      <th>nm_mun</th>\n",
       "      <th>sigla_uf</th>\n",
       "      <th>uf</th>\n",
       "      <th>area_km2</th>\n",
       "      <th>an022801</th>\n",
       "    </tr>\n",
       "  </thead>\n",
       "  <tbody>\n",
       "    <tr>\n",
       "      <th>0</th>\n",
       "      <td>1100015</td>\n",
       "      <td>Alta Floresta D'Oeste</td>\n",
       "      <td>RO</td>\n",
       "      <td>11.0</td>\n",
       "      <td>7067.127</td>\n",
       "      <td>0.0</td>\n",
       "    </tr>\n",
       "    <tr>\n",
       "      <th>1</th>\n",
       "      <td>1100023</td>\n",
       "      <td>Ariquemes</td>\n",
       "      <td>RO</td>\n",
       "      <td>11.0</td>\n",
       "      <td>4426.571</td>\n",
       "      <td>0.0</td>\n",
       "    </tr>\n",
       "    <tr>\n",
       "      <th>2</th>\n",
       "      <td>1100031</td>\n",
       "      <td>Cabixi</td>\n",
       "      <td>RO</td>\n",
       "      <td>11.0</td>\n",
       "      <td>1314.352</td>\n",
       "      <td>0.0</td>\n",
       "    </tr>\n",
       "    <tr>\n",
       "      <th>3</th>\n",
       "      <td>1100049</td>\n",
       "      <td>Cacoal</td>\n",
       "      <td>RO</td>\n",
       "      <td>11.0</td>\n",
       "      <td>3793.000</td>\n",
       "      <td>0.0</td>\n",
       "    </tr>\n",
       "    <tr>\n",
       "      <th>4</th>\n",
       "      <td>1100056</td>\n",
       "      <td>Cerejeiras</td>\n",
       "      <td>RO</td>\n",
       "      <td>11.0</td>\n",
       "      <td>2783.300</td>\n",
       "      <td>0.0</td>\n",
       "    </tr>\n",
       "  </tbody>\n",
       "</table>\n",
       "</div>"
      ],
      "text/plain": [
       "    cd_mun                 nm_mun sigla_uf    uf  area_km2  an022801\n",
       "0  1100015  Alta Floresta D'Oeste       RO  11.0  7067.127       0.0\n",
       "1  1100023              Ariquemes       RO  11.0  4426.571       0.0\n",
       "2  1100031                 Cabixi       RO  11.0  1314.352       0.0\n",
       "3  1100049                 Cacoal       RO  11.0  3793.000       0.0\n",
       "4  1100056             Cerejeiras       RO  11.0  2783.300       0.0"
      ]
     },
     "execution_count": 6,
     "metadata": {},
     "output_type": "execute_result"
    }
   ],
   "source": [
    "muni.head()"
   ]
  },
  {
   "cell_type": "code",
   "execution_count": 54,
   "metadata": {},
   "outputs": [],
   "source": [
    "muni.to_json(\"0_municipios.json\", orient=\"table\", indent=4)"
   ]
  },
  {
   "cell_type": "code",
   "execution_count": 14,
   "metadata": {},
   "outputs": [],
   "source": [
    "municipios_brasileiros = pd.read_json(\"/home/alexandrecgn/DevOps/buscador_do_patrimônio/municipios/0_municipios.json\")"
   ]
  },
  {
   "cell_type": "code",
   "execution_count": 7,
   "metadata": {},
   "outputs": [
    {
     "data": {
      "text/html": [
       "<div>\n",
       "<style scoped>\n",
       "    .dataframe tbody tr th:only-of-type {\n",
       "        vertical-align: middle;\n",
       "    }\n",
       "\n",
       "    .dataframe tbody tr th {\n",
       "        vertical-align: top;\n",
       "    }\n",
       "\n",
       "    .dataframe thead th {\n",
       "        text-align: right;\n",
       "    }\n",
       "</style>\n",
       "<table border=\"1\" class=\"dataframe\">\n",
       "  <thead>\n",
       "    <tr style=\"text-align: right;\">\n",
       "      <th></th>\n",
       "      <th>nm_mun</th>\n",
       "      <th>sigla_uf</th>\n",
       "    </tr>\n",
       "  </thead>\n",
       "  <tbody>\n",
       "    <tr>\n",
       "      <th>0</th>\n",
       "      <td>Alta Floresta D'Oeste</td>\n",
       "      <td>RO</td>\n",
       "    </tr>\n",
       "    <tr>\n",
       "      <th>1</th>\n",
       "      <td>Ariquemes</td>\n",
       "      <td>RO</td>\n",
       "    </tr>\n",
       "    <tr>\n",
       "      <th>2</th>\n",
       "      <td>Cabixi</td>\n",
       "      <td>RO</td>\n",
       "    </tr>\n",
       "    <tr>\n",
       "      <th>3</th>\n",
       "      <td>Cacoal</td>\n",
       "      <td>RO</td>\n",
       "    </tr>\n",
       "    <tr>\n",
       "      <th>4</th>\n",
       "      <td>Cerejeiras</td>\n",
       "      <td>RO</td>\n",
       "    </tr>\n",
       "  </tbody>\n",
       "</table>\n",
       "</div>"
      ],
      "text/plain": [
       "                  nm_mun sigla_uf\n",
       "0  Alta Floresta D'Oeste       RO\n",
       "1              Ariquemes       RO\n",
       "2                 Cabixi       RO\n",
       "3                 Cacoal       RO\n",
       "4             Cerejeiras       RO"
      ]
     },
     "execution_count": 7,
     "metadata": {},
     "output_type": "execute_result"
    }
   ],
   "source": [
    "municipios_brasileiros.head()"
   ]
  },
  {
   "cell_type": "code",
   "execution_count": 10,
   "metadata": {},
   "outputs": [],
   "source": [
    "uf = \"AP\"\n",
    "cidades = []"
   ]
  },
  {
   "cell_type": "code",
   "execution_count": 17,
   "metadata": {},
   "outputs": [],
   "source": [
    "for cidade in municipios_brasileiros[\"features\"]:\n",
    "    cidades.append(cidade[\"nm_mun\"])"
   ]
  }
 ],
 "metadata": {
  "kernelspec": {
   "display_name": ".venv",
   "language": "python",
   "name": "python3"
  },
  "language_info": {
   "codemirror_mode": {
    "name": "ipython",
    "version": 3
   },
   "file_extension": ".py",
   "mimetype": "text/x-python",
   "name": "python",
   "nbconvert_exporter": "python",
   "pygments_lexer": "ipython3",
   "version": "3.12.7"
  }
 },
 "nbformat": 4,
 "nbformat_minor": 2
}
